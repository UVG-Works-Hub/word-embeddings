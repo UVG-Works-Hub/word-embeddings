{
 "cells": [
  {
   "cell_type": "code",
   "outputs": [],
   "source": [
    "import gensim"
   ],
   "metadata": {
    "collapsed": false,
    "ExecuteTime": {
     "end_time": "2024-10-11T21:49:18.787896Z",
     "start_time": "2024-10-11T21:49:18.672526Z"
    }
   },
   "id": "23556a2b0d70ade4",
   "execution_count": 2
  },
  {
   "cell_type": "code",
   "outputs": [],
   "source": [
    "documents = [\n",
    "    \"The quick brown fox jumps over the lazy dog.\",\n",
    "    \"Artificial intelligence is transforming the world rapidly.\",\n",
    "    \"Python is an incredibly versatile programming language.\",\n",
    "    \"She sells seashells by the seashore on a sunny day.\",\n",
    "    \"Data science involves statistics, coding, and domain expertise.\",\n",
    "    \"In the heart of the forest, the birds sing their morning song.\",\n",
    "    \"Space exploration has always captured the imagination of humanity.\",\n",
    "    \"The coffee machine broke just before the morning rush.\",\n",
    "    \"Quantum computing could revolutionize cryptography and data security.\",\n",
    "    \"A warm cup of tea can be soothing on a cold winter evening.\"\n",
    "]"
   ],
   "metadata": {
    "collapsed": false
   },
   "id": "200d64a74abbd226"
  },
  {
   "cell_type": "code",
   "outputs": [
    {
     "data": {
      "text/plain": "(60872565, 83038720)"
     },
     "execution_count": 9,
     "metadata": {},
     "output_type": "execute_result"
    }
   ],
   "source": [
    "model = gensim.models.Word2Vec(\n",
    "    documents\n",
    "    , vector_size=50\n",
    "    , window=5\n",
    "    , min_count=1\n",
    "    , workers=10\n",
    ")\n",
    "\n",
    "model.train(documents,total_examples=len(documents),epochs=2)"
   ],
   "metadata": {
    "collapsed": false,
    "ExecuteTime": {
     "end_time": "2024-10-11T22:32:47.086120Z",
     "start_time": "2024-10-11T22:31:23.270763Z"
    }
   },
   "id": "1d1232ab40147d3f",
   "execution_count": 9
  },
  {
   "cell_type": "code",
   "outputs": [
    {
     "data": {
      "text/plain": "[('machines', 0.7626938819885254),\n ('bucket', 0.7331673502922058),\n ('maker', 0.7157562971115112)]"
     },
     "execution_count": 11,
     "metadata": {},
     "output_type": "execute_result"
    }
   ],
   "source": [
    "model.wv.most_similar('machine', topn= 3)"
   ],
   "metadata": {
    "collapsed": false,
    "ExecuteTime": {
     "end_time": "2024-10-11T22:33:37.483030Z",
     "start_time": "2024-10-11T22:33:37.430992Z"
    }
   },
   "id": "2df8cfc14093d69c",
   "execution_count": 11
  }
 ],
 "metadata": {
  "kernelspec": {
   "display_name": "Python 3",
   "language": "python",
   "name": "python3"
  },
  "language_info": {
   "codemirror_mode": {
    "name": "ipython",
    "version": 2
   },
   "file_extension": ".py",
   "mimetype": "text/x-python",
   "name": "python",
   "nbconvert_exporter": "python",
   "pygments_lexer": "ipython2",
   "version": "2.7.6"
  }
 },
 "nbformat": 4,
 "nbformat_minor": 5
}
